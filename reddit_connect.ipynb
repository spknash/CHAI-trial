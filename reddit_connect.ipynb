{
 "cells": [
  {
   "cell_type": "code",
   "execution_count": 10,
   "metadata": {},
   "outputs": [],
   "source": [
    "from psaw import PushshiftAPI\n",
    "import praw\n"
   ]
  },
  {
   "cell_type": "code",
   "execution_count": 11,
   "metadata": {},
   "outputs": [
    {
     "name": "stdout",
     "output_type": "stream",
     "text": [
      "praw object created\n"
     ]
    }
   ],
   "source": [
    "reddit_ = praw.Reddit(client_id='95jHkxWk5zeU0m7ujroPBw', client_secret='mvR2hBE1IGe_SbIDOKsJkrcudMFgiw', user_agent='Genealogies/1.0')\n",
    "api = PushshiftAPI(reddit_)\n",
    "\n"
   ]
  },
  {
   "cell_type": "code",
   "execution_count": 3,
   "metadata": {},
   "outputs": [
    {
     "ename": "NameError",
     "evalue": "name 'api' is not defined",
     "output_type": "error",
     "traceback": [
      "\u001b[0;31m---------------------------------------------------------------------------\u001b[0m",
      "\u001b[0;31mNameError\u001b[0m                                 Traceback (most recent call last)",
      "\u001b[1;32m/Users/suhaaskatikaneni/Documents/personal-projects/CHAI-trial/reddit_connect.ipynb Cell 3'\u001b[0m in \u001b[0;36m<cell line: 1>\u001b[0;34m()\u001b[0m\n\u001b[0;32m----> <a href='vscode-notebook-cell:/Users/suhaaskatikaneni/Documents/personal-projects/CHAI-trial/reddit_connect.ipynb#ch0000002?line=0'>1</a>\u001b[0m results \u001b[39m=\u001b[39m api\u001b[39m.\u001b[39msearch_submissions(subreddit\u001b[39m=\u001b[39m\u001b[39m'\u001b[39m\u001b[39mlearnprogramming\u001b[39m\u001b[39m'\u001b[39m, limit\u001b[39m=\u001b[39m\u001b[39m100\u001b[39m)\n\u001b[1;32m      <a href='vscode-notebook-cell:/Users/suhaaskatikaneni/Documents/personal-projects/CHAI-trial/reddit_connect.ipynb#ch0000002?line=2'>3</a>\u001b[0m \u001b[39m# Iterate through the results and print the title of each submission\u001b[39;00m\n\u001b[1;32m      <a href='vscode-notebook-cell:/Users/suhaaskatikaneni/Documents/personal-projects/CHAI-trial/reddit_connect.ipynb#ch0000002?line=3'>4</a>\u001b[0m \u001b[39mfor\u001b[39;00m result \u001b[39min\u001b[39;00m results:\n",
      "\u001b[0;31mNameError\u001b[0m: name 'api' is not defined"
     ]
    }
   ],
   "source": [
    "results = api.search_submissions(subreddit='learnprogramming', limit=100)\n",
    "\n",
    "# Iterate through the results and print the title of each submission\n",
    "for result in results:\n",
    "    print(result.title)"
   ]
  }
 ],
 "metadata": {
  "kernelspec": {
   "display_name": "Python 3.10.4 64-bit",
   "language": "python",
   "name": "python3"
  },
  "language_info": {
   "codemirror_mode": {
    "name": "ipython",
    "version": 3
   },
   "file_extension": ".py",
   "mimetype": "text/x-python",
   "name": "python",
   "nbconvert_exporter": "python",
   "pygments_lexer": "ipython3",
   "version": "3.10.4"
  },
  "orig_nbformat": 4,
  "vscode": {
   "interpreter": {
    "hash": "aee8b7b246df8f9039afb4144a1f6fd8d2ca17a180786b69acc140d282b71a49"
   }
  }
 },
 "nbformat": 4,
 "nbformat_minor": 2
}
